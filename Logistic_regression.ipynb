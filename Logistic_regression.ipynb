{
 "cells": [
  {
   "cell_type": "code",
   "execution_count": 6,
   "metadata": {
    "collapsed": true
   },
   "outputs": [],
   "source": [
    "import csv\n",
    "import re\n",
    "import string\n",
    "from nltk import sent_tokenize\n",
    "from nltk.corpus import stopwords\n",
    "from sklearn.feature_extraction.text import TfidfVectorizer\n",
    "import numpy as np"
   ]
  },
  {
   "cell_type": "code",
   "execution_count": 52,
   "metadata": {
    "collapsed": true
   },
   "outputs": [],
   "source": [
    "def clean_data(body):\n",
    "    punctuations = string.punctuation + '—' + '’' + '…' + '‘' + '–' + '”' + '“'\n",
    "    regex = re.compile('[%s]' % re.escape(punctuations))\n",
    "    clean_text=''\n",
    "    for sentence in sent_tokenize(body):\n",
    "        sentence=regex.sub('', sentence)\n",
    "        sentence=re.sub(r\"\\n\", \" \", sentence)\n",
    "        sentence = re.sub(r\"i'm\", \"i am\", sentence)\n",
    "        sentence = re.sub(r\"he's\", \"he is\", sentence)\n",
    "        sentence = re.sub(r\"she's\", \"she is\", sentence)\n",
    "        sentence = re.sub(r\"it's\", \"it is\", sentence)\n",
    "        sentence = re.sub(r\"that's\", \"that is\", sentence)\n",
    "        sentence = re.sub(r\"what's\", \"what is\", sentence)\n",
    "        sentence = re.sub(r\"where's\", \"where is\", sentence)\n",
    "        sentence = re.sub(r\"how's\", \"how is\", sentence)\n",
    "        sentence = re.sub(r\"\\'ll\", \" will\", sentence)\n",
    "        sentence = re.sub(r\"\\'ve\", \" have\", sentence)\n",
    "        sentence = re.sub(r\"\\'re\", \" are\", sentence)\n",
    "        sentence = re.sub(r\"\\'d\", \" would\", sentence)\n",
    "        sentence = re.sub(r\"\\'re\", \" are\", sentence)\n",
    "        sentence = re.sub(r\"won't\", \"will not\", sentence)\n",
    "        sentence = re.sub(r\"can't\", \"cannot\", sentence)\n",
    "        sentence = re.sub(r\"n't\", \" not\", sentence)\n",
    "        sentence = re.sub(r\"n'\", \"ng\", sentence)\n",
    "        sentence = re.sub(r\"'bout\", \"about\", sentence)\n",
    "        sentence = re.sub(r\"'til\", \"until\", sentence)\n",
    "        sentence = re.sub(' +',' ',sentence)\n",
    "        clean_text=clean_text+' '+sentence\n",
    "    return clean_text\n",
    "    \n",
    "    \n",
    "def clean_bodies(articles):\n",
    "    clean_articles={}\n",
    "    for i in articles:\n",
    "        clean_articles[int(i)]=clean_data(articles[i])\n",
    "    #print(clean_articles[0])\n",
    "    clean_articles_list=[]\n",
    "    for i in clean_articles:\n",
    "        clean_articles_list.append(clean_articles[i])\n",
    "    return(clean_articles_list)\n",
    "\n",
    "\n",
    "\n",
    "def read_bodies(file_name):\n",
    "    with open(file_name,encoding='latin1') as csvfile:\n",
    "        spamreader = csv.reader(csvfile, delimiter=',')\n",
    "        articles={}\n",
    "        for i in spamreader:\n",
    "            articles[i[0]]=i[1]\n",
    "    del articles['Body ID']\n",
    "    clean_articles={}\n",
    "    for i in articles:\n",
    "        clean_articles[int(i)]=clean_data(articles[i])\n",
    "    #print(clean_articles[0])\n",
    "    clean_articles_list=[]\n",
    "    for i in clean_articles:\n",
    "        clean_articles_list.append(clean_articles[i])\n",
    "    return clean_articles,clean_articles_list\n",
    "\n",
    "def generate_vocab(list_articles):\n",
    "    single_string=''\n",
    "    for article in list_articles:\n",
    "        single_string+=article\n",
    "    stop_words = set(stopwords.words('english'))\n",
    "    vocab=set(single_string.split())\n",
    "    vocab = [w for w in vocab if not w in stop_words]\n",
    "    return vocab\n",
    "\n",
    "def read_title_stances(filename):\n",
    "    with open(filename,encoding='latin1') as csvfile:\n",
    "        spamreader = csv.reader(csvfile, delimiter=',')\n",
    "        stances={}\n",
    "        title={}\n",
    "        for i in spamreader:\n",
    "            stances[i[1]]=i[2]\n",
    "            title[i[1]]=i[0]\n",
    "        del title['Body ID']\n",
    "        del stances['Body ID']\n",
    "        title = {int(k):v for k,v in title.items()}\n",
    "        stances = {int(k):v for k,v in stances.items()}\n",
    "    return title,stances\n",
    "\n",
    "def generate_matrix(article_list,vocabulary):\n",
    "    vectorizer = TfidfVectorizer(vocabulary=vocabulary)\n",
    "    t=vectorizer.fit_transform(article_list)\n",
    "    vect_articles=t.toarray()\n",
    "    #print(vect_articles)\n",
    "    return vect_articles\n",
    "\n",
    "def convert_labels(article,stances,selected_stance):\n",
    "    y_ids=[]\n",
    "    for i in article:\n",
    "        y_ids.append(i)\n",
    "    stance_rearranged=[]\n",
    "    for i in y_ids:\n",
    "        stance_rearranged.append(stances[i])\n",
    "    y_stance_label=[]\n",
    "    for s in stance_rearranged:\n",
    "        if s==selected_stance:\n",
    "            y_stance_label.append(1)\n",
    "        else :\n",
    "            y_stance_label.append(0)\n",
    "    return y_stance_label\n",
    "\n",
    "def calculate_accuracy(predictions,labels):\n",
    "    count=0\n",
    "    for i in range(len(predictions)):\n",
    "        if predictions[i]==labels[i]:\n",
    "            count+=1\n",
    "    #print(sum(predictions),'\\n',sum(labels))\n",
    "    return count/len(labels)\n",
    "\n",
    "def order_stance_by_body(article,stances):\n",
    "    y_ids=[]\n",
    "    for i in article:\n",
    "        y_ids.append(i)\n",
    "    stance_rearranged=[]\n",
    "    for i in y_ids:\n",
    "        stance_rearranged.append(stances[i])\n",
    "    return stance_rearranged"
   ]
  },
  {
   "cell_type": "code",
   "execution_count": 4,
   "metadata": {},
   "outputs": [
    {
     "name": "stdout",
     "output_type": "stream",
     "text": [
      "[4.11851711] [[  0.           6.71696765   3.86215917 ...   0.           0.\n",
      "  -16.18381799]]\n"
     ]
    }
   ],
   "source": [
    "from sklearn.linear_model import LogisticRegression\n",
    "\n",
    "articles_train,article_list_train = read_bodies('train_bodies.csv')\n",
    "title,stances = read_title_stances('train_stances.csv')\n",
    "\n",
    "vocab = generate_vocab(article_list_train)\n",
    "\n",
    "vect_articles = generate_matrix(article_list=article_list_train,vocabulary=vocab)\n",
    "\n",
    "y_stance_label=convert_labels(article=articles_train,selected_stance='unrelated',stances=stances)\n",
    "\n",
    "\n",
    "clf = LogisticRegression(fit_intercept=True, C = 1e15)\n",
    "clf.fit(vect_articles, y_stance_label)\n",
    "\n",
    "print(clf.intercept_, clf.coef_)\n"
   ]
  },
  {
   "cell_type": "code",
   "execution_count": 40,
   "metadata": {},
   "outputs": [
    {
     "name": "stdout",
     "output_type": "stream",
     "text": [
      "Accuracy from sk-learn: 0.49889380530973454\n"
     ]
    }
   ],
   "source": [
    "test_article,test_article_list=read_bodies('competition_test_bodies.csv')\n",
    "test_matrix=generate_matrix(article_list=test_article_list,vocabulary=vocab)\n",
    "test_stances=read_title_stances(filename='competition_test_stances.csv')[1]\n",
    "binary_test_stances=convert_labels(article=test_article,selected_stance='unrelated',stances=test_stances)\n",
    "pred = clf.predict(X=test_matrix)\n",
    "#print((test_stances),'\\n\\n',(pred))\n",
    "print('Accuracy from sk-learn: {0}'.format(calculate_accuracy(labels = binary_test_stances , predictions = pred)))"
   ]
  },
  {
   "cell_type": "code",
   "execution_count": 27,
   "metadata": {
    "collapsed": true
   },
   "outputs": [],
   "source": [
    "def sigmoid(x):\n",
    "    return 1 / (1 + np.exp(-x))\n",
    "\n",
    "def logistic_regression(training_features, label, num_steps, learning_rate, add_intercept = False):\n",
    "    if add_intercept:\n",
    "        intercept = np.ones((training_features.shape[0], 1))\n",
    "        training_features = np.hstack((intercept, training_features))\n",
    "    \n",
    "    weights = np.zeros(training_features.shape[1])\n",
    "    \n",
    "    for step in range(num_steps):\n",
    "        scores = np.dot(training_features, weights)\n",
    "        predictions = sigmoid(scores)\n",
    "\n",
    "        # Update weights with gradient\n",
    "        output_error = label - predictions\n",
    "        gradient = np.dot(training_features.T, output_error)\n",
    "        weights += learning_rate * gradient\n",
    "        \n",
    "    return weights\n",
    "def calculate_results(x,weight,intercept):\n",
    "    #data_with_intercept = np.hstack((np.ones((x.shape[0], 1)), x))                                \n",
    "    final_scores = np.dot(x, np.transpose(weight))+intercept\n",
    "    return final_scores"
   ]
  },
  {
   "cell_type": "code",
   "execution_count": 13,
   "metadata": {},
   "outputs": [],
   "source": [
    "\n",
    "articles_train,article_list_train = read_bodies('train_bodies.csv')\n",
    "title,stances = read_title_stances('train_stances.csv')\n",
    "\n",
    "vocab = generate_vocab(article_list_train)\n",
    "\n",
    "vect_articles = generate_matrix(article_list=article_list_train,vocabulary=vocab)\n",
    "\n",
    "def calulate_weights(selected_stance,articles_train,stances,vect_articles):\n",
    "\n",
    "    y_stance_label=convert_labels(article=articles_train,selected_stance = selected_stance, stances=stances)\n",
    "\n",
    "    #weights = logistic_regression(training_features=vect_articles,label=y_stance_label,\n",
    "    #                     num_steps = 4000, learning_rate = 5e-6, add_intercept=True)\n",
    "    clf = LogisticRegression(fit_intercept=True, C = 1e15)\n",
    "    clf.fit(vect_articles, y_stance_label)\n",
    "    return(clf.intercept_, clf.coef_)\n",
    "\n",
    "    #return weights"
   ]
  },
  {
   "cell_type": "code",
   "execution_count": 32,
   "metadata": {},
   "outputs": [],
   "source": [
    "intercept_unrelated,w_unrelated=calulate_weights(selected_stance='unrelated',articles_train=articles_train,stances=stances,vect_articles=vect_articles)\n",
    "intercept_agree,w_agree=calulate_weights(selected_stance='agree',articles_train=articles_train,stances=stances,vect_articles=vect_articles)\n",
    "intercept_disagree,w_disagree=calulate_weights(selected_stance='disagree',articles_train=articles_train,stances=stances,vect_articles=vect_articles)\n",
    "intercept_discuss,w_discuss=calulate_weights(selected_stance='discuss',articles_train=articles_train,stances=stances,vect_articles=vect_articles)\n"
   ]
  },
  {
   "cell_type": "code",
   "execution_count": 35,
   "metadata": {},
   "outputs": [
    {
     "name": "stdout",
     "output_type": "stream",
     "text": [
      "<class 'numpy.ndarray'>\n"
     ]
    }
   ],
   "source": [
    "score_unrelated=calculate_results(weight=w_unrelated,x=test_matrix,intercept=intercept_unrelated)\n",
    "score_agree=calculate_results(weight=w_agree,x=test_matrix,intercept=intercept_agree)\n",
    "score_disagree=calculate_results(weight=w_disagree,x=test_matrix,intercept=intercept_disagree)\n",
    "score_discuss=calculate_results(weight=w_discuss,x=test_matrix,intercept=intercept_discuss)\n",
    "print(type(score_unrelated))"
   ]
  },
  {
   "cell_type": "code",
   "execution_count": 37,
   "metadata": {},
   "outputs": [],
   "source": [
    "result=[]\n",
    "for i in range(score_agree.size):\n",
    "    m=max(score_unrelated[i],score_agree[i],score_disagree[i],score_discuss[i])\n",
    "    if m==score_unrelated[i]:\n",
    "        result.append('unrelated')\n",
    "    elif m==score_agree[i]:\n",
    "        result.append('agree')\n",
    "    elif m==score_discuss[i]:\n",
    "        result.append('discuss')\n",
    "    else:\n",
    "        result.append('disagree')\n",
    "  "
   ]
  },
  {
   "cell_type": "code",
   "execution_count": 53,
   "metadata": {},
   "outputs": [
    {
     "data": {
      "text/plain": [
       "0.39823008849557523"
      ]
     },
     "execution_count": 53,
     "metadata": {},
     "output_type": "execute_result"
    }
   ],
   "source": [
    "actual_stance=order_stance_by_body(article=test_article,stances=test_stances)\n",
    "calculate_accuracy(labels=actual_stance,predictions=result)"
   ]
  }
 ],
 "metadata": {
  "kernelspec": {
   "display_name": "Python 3",
   "language": "python",
   "name": "python3"
  },
  "language_info": {
   "codemirror_mode": {
    "name": "ipython",
    "version": 3
   },
   "file_extension": ".py",
   "mimetype": "text/x-python",
   "name": "python",
   "nbconvert_exporter": "python",
   "pygments_lexer": "ipython3",
   "version": "3.6.3"
  }
 },
 "nbformat": 4,
 "nbformat_minor": 2
}
