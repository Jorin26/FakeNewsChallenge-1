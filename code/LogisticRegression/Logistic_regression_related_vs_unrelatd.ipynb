{
 "cells": [
  {
   "cell_type": "code",
   "execution_count": 1,
   "metadata": {
    "collapsed": true
   },
   "outputs": [],
   "source": [
    "import csv\n",
    "import re\n",
    "import string\n",
    "from nltk import sent_tokenize\n",
    "from nltk.corpus import stopwords\n",
    "from sklearn.feature_extraction.text import TfidfVectorizer\n",
    "import numpy as np\n",
    "from nltk.stem import WordNetLemmatizer"
   ]
  },
  {
   "cell_type": "code",
   "execution_count": 2,
   "metadata": {
    "collapsed": true
   },
   "outputs": [],
   "source": [
    "#function for cleaning a article\n",
    "\n",
    "def clean_data(body):\n",
    "    punctuations = string.punctuation + '—' + '’' + '…' + '‘' + '–' + '”' + '“'\n",
    "    regex = re.compile('[%s]' % re.escape(punctuations))\n",
    "    clean_text=''\n",
    "    for sentence in sent_tokenize(body):\n",
    "        sentence=regex.sub('', sentence)\n",
    "        sentence=re.sub(r\"\\n\", \" \", sentence)\n",
    "        sentence = re.sub(r\"i'm\", \"i am\", sentence)\n",
    "        sentence = re.sub(r\"he's\", \"he is\", sentence)\n",
    "        sentence = re.sub(r\"she's\", \"she is\", sentence)\n",
    "        sentence = re.sub(r\"it's\", \"it is\", sentence)\n",
    "        sentence = re.sub(r\"that's\", \"that is\", sentence)\n",
    "        sentence = re.sub(r\"what's\", \"what is\", sentence)\n",
    "        sentence = re.sub(r\"where's\", \"where is\", sentence)\n",
    "        sentence = re.sub(r\"how's\", \"how is\", sentence)\n",
    "        sentence = re.sub(r\"\\'ll\", \" will\", sentence)\n",
    "        sentence = re.sub(r\"\\'ve\", \" have\", sentence)\n",
    "        sentence = re.sub(r\"\\'re\", \" are\", sentence)\n",
    "        sentence = re.sub(r\"\\'d\", \" would\", sentence)\n",
    "        sentence = re.sub(r\"\\'re\", \" are\", sentence)\n",
    "        sentence = re.sub(r\"won't\", \"will not\", sentence)\n",
    "        sentence = re.sub(r\"can't\", \"cannot\", sentence)\n",
    "        sentence = re.sub(r\"n't\", \" not\", sentence)\n",
    "        sentence = re.sub(r\"n'\", \"ng\", sentence)\n",
    "        sentence = re.sub(r\"'bout\", \"about\", sentence)\n",
    "        sentence = re.sub(r\"'til\", \"until\", sentence)\n",
    "        sentence = re.sub(' +',' ',sentence)\n",
    "        clean_text=clean_text+' '+sentence\n",
    "    return clean_text\n",
    "    \n",
    "#clean all articles\n",
    "def clean_bodies(articles):\n",
    "    clean_articles={}\n",
    "    for i in articles:\n",
    "        clean_articles[int(i)]=clean_data(articles[i])\n",
    "    #print(clean_articles[0])\n",
    "    clean_articles_list=[]\n",
    "    for i in clean_articles:\n",
    "        clean_articles_list.append(clean_articles[i])\n",
    "    return(clean_articles_list)\n",
    "\n",
    "\n",
    "#read the articles\n",
    "\n",
    "def read_bodies(file_name):\n",
    "    with open(file_name,encoding='latin1') as csvfile:\n",
    "        spamreader = csv.reader(csvfile, delimiter=',')\n",
    "        articles={}\n",
    "        for i in spamreader:\n",
    "            articles[i[0]]=i[1]\n",
    "    del articles['Body ID']\n",
    "    clean_articles={}\n",
    "    for i in articles:\n",
    "        clean_articles[int(i)]=clean_data(articles[i])\n",
    "    #print(clean_articles[0])\n",
    "    clean_articles_list=[]\n",
    "    for i in clean_articles:\n",
    "        clean_articles_list.append(clean_articles[i])\n",
    "    return clean_articles,clean_articles_list\n",
    "\n",
    "#create vocabulary\n",
    "\n",
    "def generate_vocab(list_articles):\n",
    "    single_string=''\n",
    "    for article in list_articles:\n",
    "        single_string=single_string + ' ' + article\n",
    "    stop_words = set(stopwords.words('english'))\n",
    "    vocab=set(single_string.split())\n",
    "    \n",
    "    vocab = [w for w in vocab if not w in stop_words]\n",
    "   \n",
    "    wordnet_lemmatizer = WordNetLemmatizer()\n",
    "    new_vocab=[]\n",
    "    for w in vocab:\n",
    "        new_vocab.append(wordnet_lemmatizer.lemmatize(w))\n",
    "    new_vocab=set(new_vocab)\n",
    "    return vocab\n",
    "\n",
    "#read title and stances into dictionaries\n",
    "def read_title_stances(filename):\n",
    "    with open(filename,encoding='latin1') as csvfile:\n",
    "        spamreader = csv.reader(csvfile, delimiter=',')\n",
    "        stances={}\n",
    "        title={}\n",
    "        for i in spamreader:\n",
    "            stances[i[1]]=i[2]\n",
    "            title[i[1]]=i[0]\n",
    "        del title['Body ID']\n",
    "        del stances['Body ID']\n",
    "        title = {int(k):v for k,v in title.items()}\n",
    "        stances = {int(k):v for k,v in stances.items()}\n",
    "    return title,stances\n",
    "\n",
    "#create tf-idf matrix of features\n",
    "def generate_matrix(article_list,vocabulary):\n",
    "    vectorizer = TfidfVectorizer(vocabulary=vocabulary)\n",
    "    t=vectorizer.fit_transform(article_list)\n",
    "    vect_articles=t.toarray()\n",
    "    #print(vect_articles)\n",
    "    return vect_articles\n",
    "\n",
    "#convert binary lables- 1 for selected stance 0 for rest\n",
    "def convert_labels(article,stances,selected_stance):\n",
    "    y_ids=[]\n",
    "    for i in article:\n",
    "        y_ids.append(i)\n",
    "    stance_rearranged=[]\n",
    "    for i in y_ids:\n",
    "        stance_rearranged.append(stances[i])\n",
    "    y_stance_label=[]\n",
    "    for s in stance_rearranged:\n",
    "        if s==selected_stance:\n",
    "            y_stance_label.append(1)\n",
    "        else :\n",
    "            y_stance_label.append(0)\n",
    "    return y_stance_label\n",
    "\n",
    "#calculate accuracy of prediction\n",
    "def calculate_accuracy(predictions,labels):\n",
    "    count=0\n",
    "    for i in range(len(predictions)):\n",
    "        if predictions[i]==labels[i]:\n",
    "            count+=1\n",
    "    #print(sum(predictions),'\\n',sum(labels))\n",
    "    return count/len(labels)\n",
    "\n",
    "#reorder stances by article bodies\n",
    "def order_stance_by_body(article,stances):\n",
    "    y_ids=[]\n",
    "    for i in article:\n",
    "        y_ids.append(i)\n",
    "    stance_rearranged=[]\n",
    "    for i in y_ids:\n",
    "        stance_rearranged.append(stances[i])\n",
    "    return stance_rearranged\n",
    "\n",
    "def sigmoid(x):\n",
    "    return 1 / (1 + np.exp(-x))\n",
    "\n",
    "def logistic_regression(training_features, label, num_steps, learning_rate,c ,add_intercept = False):\n",
    "    if add_intercept:\n",
    "        intercept = np.ones((training_features.shape[0], 1))\n",
    "        training_features = np.hstack((intercept, training_features))\n",
    "    \n",
    "    weights = np.zeros(training_features.shape[1])\n",
    "    \n",
    "    for step in range(num_steps):\n",
    "        scores = np.dot(training_features, weights)\n",
    "        predictions = sigmoid(scores)\n",
    "\n",
    "        # Update weights with gradient\n",
    "        output_error = label - predictions\n",
    "        gradient = np.dot(training_features.T, output_error)+ (2*c*weights)\n",
    "        weights += learning_rate * gradient\n",
    "        \n",
    "    return weights[0],weights[1:]\n",
    "\n",
    "#calculate final scores for prediction\n",
    "def calculate_results(x,weight,intercept):\n",
    "    #data_with_intercept = np.hstack((np.ones((x.shape[0], 1)), x))                                \n",
    "    final_scores = np.dot(x, np.transpose(weight))+intercept\n",
    "    predictions=[]\n",
    "    for score in final_scores: \n",
    "        predictions.append(sigmoid(score))\n",
    "    #final_scores.sigmoid()\n",
    "    return predictions\n",
    "\n",
    "#calculate weights and intercept\n",
    "def calulate_weights(selected_stance,articles_train,stances,vect_articles):\n",
    "\n",
    "    y_stance_label=convert_labels(article=articles_train,selected_stance = selected_stance, stances=stances)\n",
    "\n",
    "    intercept , weights = logistic_regression(training_features=vect_articles,label=y_stance_label,\n",
    "                         num_steps = 4000, learning_rate = 5e-6, add_intercept=True , c= 0.1 )\n",
    "    \n",
    "    return intercept , weights\n",
    "\n",
    "#order the titles by article bodies\n",
    "def order_title_by_body(article,title):\n",
    "    y_ids=[]\n",
    "    for i in article:\n",
    "        y_ids.append(i)\n",
    "    title_rearranged=[]\n",
    "    for i in y_ids:\n",
    "        title_rearranged.append(title[i])\n",
    "    return title_rearranged\n",
    "\n",
    "#append the title to the article body\n",
    "def append_title(article_list,title):\n",
    "    for i in range(len(article_list)):\n",
    "        article_list[i] = article_list[i]+' '+ title[i]\n",
    "    return article_list\n",
    "        "
   ]
  },
  {
   "cell_type": "code",
   "execution_count": 3,
   "metadata": {
    "collapsed": true
   },
   "outputs": [],
   "source": [
    "articles_train , article_list_train = read_bodies('train_bodies.csv')\n",
    "\n",
    "title_train , stances_train = read_title_stances('train_stances_unrelated.csv')\n",
    "\n",
    "vocab_train = generate_vocab(article_list_train)\n",
    "\n",
    "title_train_rearranged = order_title_by_body(article = articles_train , title = title_train)\n",
    "\n",
    "article_list_train = append_title(article_list = article_list_train , title = title_train_rearranged )\n",
    "\n",
    "train_matrix = generate_matrix(article_list=article_list_train,vocabulary=vocab_train)\n"
   ]
  },
  {
   "cell_type": "code",
   "execution_count": 4,
   "metadata": {
    "collapsed": true
   },
   "outputs": [],
   "source": [
    "articles_test , article_list_test = read_bodies('competition_test_bodies.csv')\n",
    "\n",
    "title_test , stances_test =read_title_stances(filename='competition_test_stances_unrelated.csv')\n",
    "\n",
    "title_test_rearranged = order_title_by_body(article = articles_test , title = title_test )\n",
    "\n",
    "article_list_test = append_title(article_list = article_list_test , title = title_test_rearranged )\n",
    "\n",
    "test_matrix=generate_matrix(article_list = article_list_test , vocabulary=vocab_train)\n",
    "\n"
   ]
  },
  {
   "cell_type": "code",
   "execution_count": 33,
   "metadata": {},
   "outputs": [
    {
     "name": "stdout",
     "output_type": "stream",
     "text": [
      "[-0.09753355] [[ 0.00758028 -0.00763406  0.00248961 ... -0.02043477  0.\n",
      "   0.        ]]\n",
      "Accuracy from sk-learn: 0.5276548672566371\n"
     ]
    }
   ],
   "source": [
    "#result using sklearn\n",
    "from sklearn.linear_model import LogisticRegression\n",
    "\n",
    "test_s=order_stance_by_body(article= articles_test , stances = stances_test)\n",
    "\n",
    "y_s=order_stance_by_body(article=articles_train,stances=stances_train)\n",
    "\n",
    "clf = LogisticRegression(fit_intercept=True, C = 0.10,multi_class = 'ovr')\n",
    "\n",
    "clf.fit(train_matrix, y_s)\n",
    "\n",
    "pred = clf.predict(X=test_matrix)\n",
    "\n",
    "print(clf.intercept_, clf.coef_)\n",
    "\n",
    "print('Accuracy from sk-learn: {0}'.format(calculate_accuracy(labels = test_s , predictions = pred)))"
   ]
  },
  {
   "cell_type": "code",
   "execution_count": 5,
   "metadata": {
    "collapsed": true
   },
   "outputs": [],
   "source": [
    "intercept_unrelated , w_unrelated = calulate_weights(selected_stance = 'unrelated' , articles_train = articles_train ,\n",
    "                                                     stances=stances_train , vect_articles= train_matrix)\n",
    "\n",
    "intercept_related , w_related = calulate_weights(selected_stance = 'related' , articles_train = articles_train ,\n",
    "                                                     stances=stances_train , vect_articles= train_matrix)\n"
   ]
  },
  {
   "cell_type": "code",
   "execution_count": 6,
   "metadata": {
    "collapsed": true
   },
   "outputs": [],
   "source": [
    "score_unrelated = calculate_results ( weight = w_unrelated , x = test_matrix , intercept = intercept_unrelated )\n",
    "\n",
    "score_related = calculate_results ( weight = w_related , x = test_matrix , intercept = intercept_related )\n",
    "\n"
   ]
  },
  {
   "cell_type": "code",
   "execution_count": 7,
   "metadata": {
    "collapsed": true
   },
   "outputs": [],
   "source": [
    "result=[]\n",
    "\n",
    "for i in range(len(score_related)):\n",
    "\n",
    "    m=max(score_unrelated[i],score_related[i])\n",
    "    \n",
    "    if m==score_unrelated[i]:\n",
    "        result.append('unrelated')\n",
    "    \n",
    "    else:\n",
    "        result.append('related')\n",
    "  "
   ]
  },
  {
   "cell_type": "code",
   "execution_count": 8,
   "metadata": {},
   "outputs": [
    {
     "name": "stdout",
     "output_type": "stream",
     "text": [
      "Final Accuracy with 1 vs all Logistic Regression =  0.5309734513274337\n"
     ]
    }
   ],
   "source": [
    "#result using logistic regression function\n",
    "actual_stance = order_stance_by_body( article = articles_test , stances = stances_test)\n",
    "\n",
    "acc=calculate_accuracy( labels = actual_stance , predictions = result ) \n",
    "\n",
    "print('Final Accuracy with 1 vs all Logistic Regression = ',acc)"
   ]
  },
  {
   "cell_type": "code",
   "execution_count": 21,
   "metadata": {
    "scrolled": true
   },
   "outputs": [
    {
     "name": "stdout",
     "output_type": "stream",
     "text": [
      "33795\n"
     ]
    }
   ],
   "source": [
    "print(len(vocab_train))"
   ]
  },
  {
   "cell_type": "code",
   "execution_count": 23,
   "metadata": {},
   "outputs": [
    {
     "name": "stdout",
     "output_type": "stream",
     "text": [
      "For C:  1e-10\n",
      "0.5181224004753416\n",
      "             precision    recall  f1-score   support\n",
      "\n",
      "    related       0.52      1.00      0.68       872\n",
      "  unrelated       0.00      0.00      0.00       811\n",
      "\n",
      "avg / total       0.27      0.52      0.35      1683\n",
      "\n"
     ]
    },
    {
     "name": "stderr",
     "output_type": "stream",
     "text": [
      "C:\\Users\\HP\\Anaconda3\\lib\\site-packages\\sklearn\\metrics\\classification.py:1135: UndefinedMetricWarning: Precision and F-score are ill-defined and being set to 0.0 in labels with no predicted samples.\n",
      "  'precision', 'predicted', average, warn_for)\n"
     ]
    },
    {
     "name": "stdout",
     "output_type": "stream",
     "text": [
      "For C:  1e-09\n",
      "0.5181224004753416\n",
      "             precision    recall  f1-score   support\n",
      "\n",
      "    related       0.52      1.00      0.68       872\n",
      "  unrelated       0.00      0.00      0.00       811\n",
      "\n",
      "avg / total       0.27      0.52      0.35      1683\n",
      "\n"
     ]
    },
    {
     "name": "stderr",
     "output_type": "stream",
     "text": [
      "C:\\Users\\HP\\Anaconda3\\lib\\site-packages\\sklearn\\metrics\\classification.py:1135: UndefinedMetricWarning: Precision and F-score are ill-defined and being set to 0.0 in labels with no predicted samples.\n",
      "  'precision', 'predicted', average, warn_for)\n"
     ]
    },
    {
     "name": "stdout",
     "output_type": "stream",
     "text": [
      "For C:  1e-08\n",
      "0.5181224004753416\n",
      "             precision    recall  f1-score   support\n",
      "\n",
      "    related       0.52      1.00      0.68       872\n",
      "  unrelated       0.00      0.00      0.00       811\n",
      "\n",
      "avg / total       0.27      0.52      0.35      1683\n",
      "\n"
     ]
    },
    {
     "name": "stderr",
     "output_type": "stream",
     "text": [
      "C:\\Users\\HP\\Anaconda3\\lib\\site-packages\\sklearn\\metrics\\classification.py:1135: UndefinedMetricWarning: Precision and F-score are ill-defined and being set to 0.0 in labels with no predicted samples.\n",
      "  'precision', 'predicted', average, warn_for)\n"
     ]
    },
    {
     "name": "stdout",
     "output_type": "stream",
     "text": [
      "For C:  1.0000000000000001e-07\n",
      "0.5181224004753416\n",
      "             precision    recall  f1-score   support\n",
      "\n",
      "    related       0.52      1.00      0.68       872\n",
      "  unrelated       0.00      0.00      0.00       811\n",
      "\n",
      "avg / total       0.27      0.52      0.35      1683\n",
      "\n"
     ]
    },
    {
     "name": "stderr",
     "output_type": "stream",
     "text": [
      "C:\\Users\\HP\\Anaconda3\\lib\\site-packages\\sklearn\\metrics\\classification.py:1135: UndefinedMetricWarning: Precision and F-score are ill-defined and being set to 0.0 in labels with no predicted samples.\n",
      "  'precision', 'predicted', average, warn_for)\n"
     ]
    },
    {
     "name": "stdout",
     "output_type": "stream",
     "text": [
      "For C:  1e-06\n",
      "0.5181224004753416\n",
      "             precision    recall  f1-score   support\n",
      "\n",
      "    related       0.52      1.00      0.68       872\n",
      "  unrelated       0.00      0.00      0.00       811\n",
      "\n",
      "avg / total       0.27      0.52      0.35      1683\n",
      "\n"
     ]
    },
    {
     "name": "stderr",
     "output_type": "stream",
     "text": [
      "C:\\Users\\HP\\Anaconda3\\lib\\site-packages\\sklearn\\metrics\\classification.py:1135: UndefinedMetricWarning: Precision and F-score are ill-defined and being set to 0.0 in labels with no predicted samples.\n",
      "  'precision', 'predicted', average, warn_for)\n"
     ]
    },
    {
     "name": "stdout",
     "output_type": "stream",
     "text": [
      "For C:  1e-05\n",
      "0.5181224004753416\n",
      "             precision    recall  f1-score   support\n",
      "\n",
      "    related       0.52      1.00      0.68       872\n",
      "  unrelated       0.00      0.00      0.00       811\n",
      "\n",
      "avg / total       0.27      0.52      0.35      1683\n",
      "\n"
     ]
    },
    {
     "name": "stderr",
     "output_type": "stream",
     "text": [
      "C:\\Users\\HP\\Anaconda3\\lib\\site-packages\\sklearn\\metrics\\classification.py:1135: UndefinedMetricWarning: Precision and F-score are ill-defined and being set to 0.0 in labels with no predicted samples.\n",
      "  'precision', 'predicted', average, warn_for)\n"
     ]
    },
    {
     "name": "stdout",
     "output_type": "stream",
     "text": [
      "For C:  0.0001\n",
      "0.5181224004753416\n",
      "             precision    recall  f1-score   support\n",
      "\n",
      "    related       0.52      1.00      0.68       872\n",
      "  unrelated       0.00      0.00      0.00       811\n",
      "\n",
      "avg / total       0.27      0.52      0.35      1683\n",
      "\n"
     ]
    },
    {
     "name": "stderr",
     "output_type": "stream",
     "text": [
      "C:\\Users\\HP\\Anaconda3\\lib\\site-packages\\sklearn\\metrics\\classification.py:1135: UndefinedMetricWarning: Precision and F-score are ill-defined and being set to 0.0 in labels with no predicted samples.\n",
      "  'precision', 'predicted', average, warn_for)\n"
     ]
    },
    {
     "name": "stdout",
     "output_type": "stream",
     "text": [
      "For C:  0.001\n",
      "0.5181224004753416\n",
      "             precision    recall  f1-score   support\n",
      "\n",
      "    related       0.52      1.00      0.68       872\n",
      "  unrelated       0.00      0.00      0.00       811\n",
      "\n",
      "avg / total       0.27      0.52      0.35      1683\n",
      "\n"
     ]
    },
    {
     "name": "stderr",
     "output_type": "stream",
     "text": [
      "C:\\Users\\HP\\Anaconda3\\lib\\site-packages\\sklearn\\metrics\\classification.py:1135: UndefinedMetricWarning: Precision and F-score are ill-defined and being set to 0.0 in labels with no predicted samples.\n",
      "  'precision', 'predicted', average, warn_for)\n"
     ]
    },
    {
     "name": "stdout",
     "output_type": "stream",
     "text": [
      "For C:  0.01\n",
      "0.5181224004753416\n",
      "             precision    recall  f1-score   support\n",
      "\n",
      "    related       0.52      1.00      0.68       872\n",
      "  unrelated       0.00      0.00      0.00       811\n",
      "\n",
      "avg / total       0.27      0.52      0.35      1683\n",
      "\n"
     ]
    },
    {
     "name": "stderr",
     "output_type": "stream",
     "text": [
      "C:\\Users\\HP\\Anaconda3\\lib\\site-packages\\sklearn\\metrics\\classification.py:1135: UndefinedMetricWarning: Precision and F-score are ill-defined and being set to 0.0 in labels with no predicted samples.\n",
      "  'precision', 'predicted', average, warn_for)\n"
     ]
    },
    {
     "name": "stdout",
     "output_type": "stream",
     "text": [
      "For C:  0.1\n",
      "0.5187165775401069\n",
      "             precision    recall  f1-score   support\n",
      "\n",
      "    related       0.52      0.84      0.64       872\n",
      "  unrelated       0.50      0.17      0.25       811\n",
      "\n",
      "avg / total       0.51      0.52      0.46      1683\n",
      "\n",
      "For C:  1.0\n",
      "0.5513963161021984\n",
      "             precision    recall  f1-score   support\n",
      "\n",
      "    related       0.56      0.64      0.60       872\n",
      "  unrelated       0.54      0.45      0.49       811\n",
      "\n",
      "avg / total       0.55      0.55      0.55      1683\n",
      "\n",
      "For C:  10.0\n",
      "0.5460487225193108\n",
      "             precision    recall  f1-score   support\n",
      "\n",
      "    related       0.56      0.61      0.58       872\n",
      "  unrelated       0.53      0.48      0.51       811\n",
      "\n",
      "avg / total       0.54      0.55      0.54      1683\n",
      "\n",
      "For C:  100.0\n",
      "0.5353535353535354\n",
      "             precision    recall  f1-score   support\n",
      "\n",
      "    related       0.55      0.59      0.57       872\n",
      "  unrelated       0.52      0.48      0.50       811\n",
      "\n",
      "avg / total       0.53      0.54      0.53      1683\n",
      "\n",
      "For C:  1000.0\n",
      "0.5353535353535354\n",
      "             precision    recall  f1-score   support\n",
      "\n",
      "    related       0.55      0.58      0.57       872\n",
      "  unrelated       0.52      0.48      0.50       811\n",
      "\n",
      "avg / total       0.53      0.54      0.53      1683\n",
      "\n",
      "For C:  10000.0\n",
      "0.5311942959001783\n",
      "             precision    recall  f1-score   support\n",
      "\n",
      "    related       0.54      0.58      0.56       872\n",
      "  unrelated       0.51      0.48      0.50       811\n",
      "\n",
      "avg / total       0.53      0.53      0.53      1683\n",
      "\n",
      "For C:  100000.0\n",
      "0.5252525252525253\n",
      "             precision    recall  f1-score   support\n",
      "\n",
      "    related       0.54      0.57      0.55       872\n",
      "  unrelated       0.51      0.48      0.49       811\n",
      "\n",
      "avg / total       0.52      0.53      0.52      1683\n",
      "\n",
      "For C:  1000000.0\n",
      "0.5210932857991681\n",
      "             precision    recall  f1-score   support\n",
      "\n",
      "    related       0.54      0.56      0.55       872\n",
      "  unrelated       0.50      0.48      0.49       811\n",
      "\n",
      "avg / total       0.52      0.52      0.52      1683\n",
      "\n",
      "For C:  10000000.0\n",
      "0.5175282234105764\n",
      "             precision    recall  f1-score   support\n",
      "\n",
      "    related       0.53      0.56      0.54       872\n",
      "  unrelated       0.50      0.48      0.49       811\n",
      "\n",
      "avg / total       0.52      0.52      0.52      1683\n",
      "\n",
      "For C:  100000000.0\n",
      "0.5199049316696376\n",
      "             precision    recall  f1-score   support\n",
      "\n",
      "    related       0.54      0.56      0.55       872\n",
      "  unrelated       0.50      0.48      0.49       811\n",
      "\n",
      "avg / total       0.52      0.52      0.52      1683\n",
      "\n",
      "For C:  1000000000.0\n",
      "0.5193107546048723\n",
      "             precision    recall  f1-score   support\n",
      "\n",
      "    related       0.53      0.56      0.55       872\n",
      "  unrelated       0.50      0.48      0.49       811\n",
      "\n",
      "avg / total       0.52      0.52      0.52      1683\n",
      "\n",
      "For C:  10000000000.0\n",
      "0.5193107546048723\n",
      "             precision    recall  f1-score   support\n",
      "\n",
      "    related       0.53      0.56      0.55       872\n",
      "  unrelated       0.50      0.48      0.49       811\n",
      "\n",
      "avg / total       0.52      0.52      0.52      1683\n",
      "\n"
     ]
    }
   ],
   "source": [
    "from sklearn import metrics, cross_validation\n",
    "mult = 1\n",
    "C = 1e-10\n",
    "list_acc={}\n",
    "while C * mult <= 1e10:\n",
    "    clf = LogisticRegression(fit_intercept=True, C = C * mult, multi_class = 'ovr')\n",
    "    predicted = cross_validation.cross_val_predict(clf, train_matrix, y_s, cv=10)\n",
    "    list_acc[C * mult]= metrics.accuracy_score(y_s, predicted)\n",
    "    print(\"For C: \", C * mult)\n",
    "    print(metrics.accuracy_score(y_s, predicted))\n",
    "    print(metrics.classification_report(y_s, predicted)) \n",
    "    mult = mult * 10"
   ]
  },
  {
   "cell_type": "code",
   "execution_count": 25,
   "metadata": {},
   "outputs": [
    {
     "name": "stdout",
     "output_type": "stream",
     "text": [
      "1e-10 \t 0.5181224004753416\n",
      "1e-09 \t 0.5181224004753416\n",
      "1e-08 \t 0.5181224004753416\n",
      "1.0000000000000001e-07 \t 0.5181224004753416\n",
      "1e-06 \t 0.5181224004753416\n",
      "1e-05 \t 0.5181224004753416\n",
      "0.0001 \t 0.5181224004753416\n",
      "0.001 \t 0.5181224004753416\n",
      "0.01 \t 0.5181224004753416\n",
      "0.1 \t 0.5187165775401069\n",
      "1.0 \t 0.5513963161021984\n",
      "10.0 \t 0.5460487225193108\n",
      "100.0 \t 0.5353535353535354\n",
      "1000.0 \t 0.5353535353535354\n",
      "10000.0 \t 0.5311942959001783\n",
      "100000.0 \t 0.5252525252525253\n",
      "1000000.0 \t 0.5210932857991681\n",
      "10000000.0 \t 0.5175282234105764\n",
      "100000000.0 \t 0.5199049316696376\n",
      "1000000000.0 \t 0.5193107546048723\n",
      "10000000000.0 \t 0.5193107546048723\n"
     ]
    }
   ],
   "source": [
    "list_acc\n",
    "for key in list_acc:\n",
    "    print(key,'\\t',list_acc[key])"
   ]
  }
 ],
 "metadata": {
  "kernelspec": {
   "display_name": "Python 3",
   "language": "python",
   "name": "python3"
  },
  "language_info": {
   "codemirror_mode": {
    "name": "ipython",
    "version": 3
   },
   "file_extension": ".py",
   "mimetype": "text/x-python",
   "name": "python",
   "nbconvert_exporter": "python",
   "pygments_lexer": "ipython3",
   "version": "3.6.3"
  }
 },
 "nbformat": 4,
 "nbformat_minor": 2
}
